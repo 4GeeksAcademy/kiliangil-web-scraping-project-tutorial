{
    "cells": [
        {
            "cell_type": "markdown",
            "metadata": {},
            "source": [
                "# Explora aquí\n",
                "\n",
                "Se recomienda utilizar este cuaderno con fines de exploración."
            ]
        },
        {
            "cell_type": "code",
            "execution_count": 26,
            "metadata": {},
            "outputs": [
                {
                    "name": "stderr",
                    "output_type": "stream",
                    "text": [
                        "/tmp/ipykernel_7710/4240124326.py:20: FutureWarning: Passing literal html to 'read_html' is deprecated and will be removed in a future version. To read from a literal string, wrap it in a 'StringIO' object.\n",
                        "  tables = pd.read_html(str(soup))\n"
                    ]
                },
                {
                    "ename": "TypeError",
                    "evalue": "Expected numeric dtype, got object instead.",
                    "output_type": "error",
                    "traceback": [
                        "\u001b[31m---------------------------------------------------------------------------\u001b[39m",
                        "\u001b[31mTypeError\u001b[39m                                 Traceback (most recent call last)",
                        "\u001b[36mCell\u001b[39m\u001b[36m \u001b[39m\u001b[32mIn[26]\u001b[39m\u001b[32m, line 27\u001b[39m\n\u001b[32m     24\u001b[39m df.head()\n\u001b[32m     26\u001b[39m \u001b[38;5;66;03m#paso4\u001b[39;00m\n\u001b[32m---> \u001b[39m\u001b[32m27\u001b[39m df[\u001b[33m\"\u001b[39m\u001b[33mStreams (billions)\u001b[39m\u001b[33m\"\u001b[39m] = \u001b[38;5;28;43mround\u001b[39;49m\u001b[43m(\u001b[49m\u001b[43mdf\u001b[49m\u001b[43m[\u001b[49m\u001b[33;43m\"\u001b[39;49m\u001b[33;43mStreams (billions)\u001b[39;49m\u001b[33;43m\"\u001b[39;49m\u001b[43m]\u001b[49m\u001b[43m,\u001b[49m\u001b[43m \u001b[49m\u001b[32;43m2\u001b[39;49m\u001b[43m)\u001b[49m\n\u001b[32m     28\u001b[39m df\n",
                        "\u001b[36mFile \u001b[39m\u001b[32m~/.local/lib/python3.11/site-packages/pandas/core/generic.py:1733\u001b[39m, in \u001b[36mNDFrame.__round__\u001b[39m\u001b[34m(self, decimals)\u001b[39m\n\u001b[32m   1731\u001b[39m \u001b[38;5;129m@final\u001b[39m\n\u001b[32m   1732\u001b[39m \u001b[38;5;28;01mdef\u001b[39;00m\u001b[38;5;250m \u001b[39m\u001b[34m__round__\u001b[39m(\u001b[38;5;28mself\u001b[39m, decimals: \u001b[38;5;28mint\u001b[39m = \u001b[32m0\u001b[39m) -> Self:\n\u001b[32m-> \u001b[39m\u001b[32m1733\u001b[39m     \u001b[38;5;28;01mreturn\u001b[39;00m \u001b[38;5;28;43mself\u001b[39;49m\u001b[43m.\u001b[49m\u001b[43mround\u001b[49m\u001b[43m(\u001b[49m\u001b[43mdecimals\u001b[49m\u001b[43m)\u001b[49m.__finalize__(\u001b[38;5;28mself\u001b[39m, method=\u001b[33m\"\u001b[39m\u001b[33m__round__\u001b[39m\u001b[33m\"\u001b[39m)\n",
                        "\u001b[36mFile \u001b[39m\u001b[32m~/.local/lib/python3.11/site-packages/pandas/core/series.py:2821\u001b[39m, in \u001b[36mSeries.round\u001b[39m\u001b[34m(self, decimals, *args, **kwargs)\u001b[39m\n\u001b[32m   2819\u001b[39m nv.validate_round(args, kwargs)\n\u001b[32m   2820\u001b[39m \u001b[38;5;28;01mif\u001b[39;00m \u001b[38;5;28mself\u001b[39m.dtype == \u001b[33m\"\u001b[39m\u001b[33mobject\u001b[39m\u001b[33m\"\u001b[39m:\n\u001b[32m-> \u001b[39m\u001b[32m2821\u001b[39m     \u001b[38;5;28;01mraise\u001b[39;00m \u001b[38;5;167;01mTypeError\u001b[39;00m(\u001b[33m\"\u001b[39m\u001b[33mExpected numeric dtype, got object instead.\u001b[39m\u001b[33m\"\u001b[39m)\n\u001b[32m   2822\u001b[39m new_mgr = \u001b[38;5;28mself\u001b[39m._mgr.round(decimals=decimals, using_cow=using_copy_on_write())\n\u001b[32m   2823\u001b[39m \u001b[38;5;28;01mreturn\u001b[39;00m \u001b[38;5;28mself\u001b[39m._constructor_from_mgr(new_mgr, axes=new_mgr.axes).__finalize__(\n\u001b[32m   2824\u001b[39m     \u001b[38;5;28mself\u001b[39m, method=\u001b[33m\"\u001b[39m\u001b[33mround\u001b[39m\u001b[33m\"\u001b[39m\n\u001b[32m   2825\u001b[39m )\n",
                        "\u001b[31mTypeError\u001b[39m: Expected numeric dtype, got object instead."
                    ]
                }
            ],
            "source": [
                "import os\n",
                "from bs4 import BeautifulSoup\n",
                "import requests\n",
                "import time\n",
                "import sqlite3\n",
                "import matplotlib.pyplot as plt\n",
                "import seaborn as sns\n",
                "import pandas as pd\n",
                "\n",
                "#paso2\n",
                "header = {'User-Agent': 'my-app/0.0.1'}\n",
                "resource_url = \"https://en.wikipedia.org/wiki/List_of_Spotify_streaming_records\"\n",
                "response = requests.get(resource_url, time.sleep(3), headers= header)\n",
                "response\n",
                "#paso3\n",
                "if response:\n",
                "    soup = BeautifulSoup(response.text, 'html.parser')\n",
                "    #tables = soup.find('table')\n",
                "    #tables\n",
                "    tables = pd.read_html(str(soup))\n",
                "    #print(len(tables))\n",
                "    #print(tables[0].head())\n",
                "df = tables[0]\n",
                "df.head()\n",
                "\n",
                "#paso4\n",
                "df[\"Streams (billions)\"] = round(df[\"Streams (billions)\"], 2)\n",
                "df\n",
                "\n",
                "\n"
            ]
        }
    ],
    "metadata": {
        "kernelspec": {
            "display_name": "Python 3",
            "language": "python",
            "name": "python3"
        },
        "language_info": {
            "codemirror_mode": {
                "name": "ipython",
                "version": 3
            },
            "file_extension": ".py",
            "mimetype": "text/x-python",
            "name": "python",
            "nbconvert_exporter": "python",
            "pygments_lexer": "ipython3",
            "version": "3.11.4"
        },
        "orig_nbformat": 4
    },
    "nbformat": 4,
    "nbformat_minor": 2
}
